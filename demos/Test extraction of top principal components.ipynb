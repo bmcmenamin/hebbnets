{
 "cells": [
  {
   "cell_type": "code",
   "execution_count": 1,
   "metadata": {},
   "outputs": [],
   "source": [
    "import os\n",
    "\n",
    "import numpy as np\n",
    "import matplotlib.pyplot as plt\n",
    "\n",
    "from demo_utils import get_random_data\n",
    "from hebbnets.networks import MultilayerHahNetwork\n",
    "\n",
    "%matplotlib nbagg"
   ]
  },
  {
   "cell_type": "markdown",
   "metadata": {},
   "source": [
    "# Set up demo data"
   ]
  },
  {
   "cell_type": "code",
   "execution_count": 2,
   "metadata": {},
   "outputs": [],
   "source": [
    "num_samples = 25\n",
    "data_output_dimension = 100\n",
    "data_latent_dimension = 3\n",
    "\n",
    "demo_data = get_random_data(\n",
    "    num_samples,\n",
    "    data_output_dimension,\n",
    "    latent_dim=data_latent_dimension\n",
    ")"
   ]
  },
  {
   "cell_type": "markdown",
   "metadata": {},
   "source": [
    "# Set up HAH network"
   ]
  },
  {
   "cell_type": "code",
   "execution_count": 3,
   "metadata": {},
   "outputs": [],
   "source": [
    "input_layer_size = data_output_dimension\n",
    "nodes_per_layer = [2]\n",
    "\n",
    "hah_network = MultilayerHahNetwork(\n",
    "    input_layer_size,\n",
    "    nodes_per_layer,\n",
    "    has_bias=False,\n",
    "    act_type='linear',\n",
    ")"
   ]
  },
  {
   "cell_type": "markdown",
   "metadata": {},
   "source": [
    "# Train network"
   ]
  },
  {
   "cell_type": "code",
   "execution_count": 4,
   "metadata": {},
   "outputs": [],
   "source": [
    "hah_network.train(demo_data, num_epochs=1000)"
   ]
  },
  {
   "cell_type": "markdown",
   "metadata": {},
   "source": [
    "# Compare network to top PC"
   ]
  },
  {
   "cell_type": "code",
   "execution_count": 5,
   "metadata": {},
   "outputs": [
    {
     "name": "stdout",
     "output_type": "stream",
     "text": [
      "[[10.7646494  13.02089182]\n",
      " [ 0.25147563  3.3972458 ]]\n"
     ]
    }
   ],
   "source": [
    "# Get top principle component for input sample\n",
    "U, S, V = np.linalg.svd(np.array(demo_data))\n",
    "_idx = np.argsort(S)[-nodes_per_layer[0]:]\n",
    "top_principal_comps = V[_idx, :].T\n",
    "\n",
    "# Get pattern of input weights in network\n",
    "hah_input_weights = np.squeeze(hah_network.layers[0].input_weights)\n",
    "\n",
    "# Show the inner product of top two PCs with learned input weights\n",
    "inner_prod_mat = top_principal_comps.T.dot(hah_input_weights)\n",
    "print(inner_prod_mat)"
   ]
  },
  {
   "cell_type": "markdown",
   "metadata": {},
   "source": [
    "If everything has gone well, the scatter plot below should show that the learned input-weights for this model correspond to the first principle component for this data"
   ]
  },
  {
   "cell_type": "code",
   "execution_count": 6,
   "metadata": {},
   "outputs": [
    {
     "data": {
      "image/png": "[encoded data removed]",
      "text/plain": [
       "<Figure size 432x288 with 2 Axes>"
      ]
     },
     "metadata": {
      "needs_background": "light"
     },
     "output_type": "display_data"
    }
   ],
   "source": [
    "fig, ax = plt.subplots(nrows=2, ncols=1)\n",
    "\n",
    "fig.suptitle('Comparison of HAH-learned input weights and principle components loadings')\n",
    "\n",
    "for pc_idx in range(2):\n",
    "    \n",
    "    if np.abs(inner_prod_mat[pc_idx, pc_idx]) > np.abs(inner_prod_mat[pc_idx, 1 - pc_idx]):\n",
    "        ha_idx = pc_idx\n",
    "    else:\n",
    "        ha_idx = 1 - pc_idx\n",
    "\n",
    "    ax[pc_idx].set_title('PC {}'.format(pc_idx))\n",
    "    ax[pc_idx].scatter(\n",
    "        top_principal_comps[:, pc_idx].ravel(),\n",
    "        hah_input_weights[:, ha_idx].ravel()\n",
    "    )"
   ]
  },
  {
   "cell_type": "code",
   "execution_count": null,
   "metadata": {},
   "outputs": [],
   "source": []
  },
  {
   "cell_type": "code",
   "execution_count": null,
   "metadata": {},
   "outputs": [],
   "source": []
  }
 ],
 "metadata": {
  "kernelspec": {
   "display_name": "Python 3",
   "language": "python",
   "name": "python3"
  },
  "language_info": {
   "codemirror_mode": {
    "name": "ipython",
    "version": 3
   },
   "file_extension": ".py",
   "mimetype": "text/x-python",
   "name": "python",
   "nbconvert_exporter": "python",
   "pygments_lexer": "ipython3",
   "version": "3.7.2"
  }
 },
 "nbformat": 4,
 "nbformat_minor": 2
}
