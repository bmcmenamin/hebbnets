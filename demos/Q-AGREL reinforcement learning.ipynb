{
 "cells": [
  {
   "cell_type": "code",
   "execution_count": 1,
   "metadata": {},
   "outputs": [],
   "source": [
    "import os\n",
    "import sys\n",
    "\n",
    "repo_root_path = os.path.abspath(os.path.pardir)\n",
    "if repo_root_path not in sys.path:\n",
    "    sys.path.append(repo_root_path)\n",
    "\n",
    "import numpy as np\n",
    "import matplotlib.pyplot as plt\n",
    "\n",
    "from sklearn.datasets import make_classification"
   ]
  },
  {
   "cell_type": "code",
   "execution_count": 2,
   "metadata": {},
   "outputs": [],
   "source": [
    "from hebbnets.networks import MultilayerQAGRELNetwork\n",
    "from hebbnets.utils import softmax"
   ]
  },
  {
   "cell_type": "code",
   "execution_count": 3,
   "metadata": {},
   "outputs": [],
   "source": [
    "num_categories = 5\n",
    "\n",
    "data_X, data_Y = make_classification(\n",
    "    n_samples=num_categories * 100,\n",
    "    n_features=num_categories + 5,\n",
    "    n_informative=num_categories,\n",
    "    n_redundant=2,\n",
    "    n_classes=num_categories,\n",
    "    n_clusters_per_class=3,\n",
    "    class_sep=10.0,\n",
    "    scale=0.1\n",
    ")"
   ]
  },
  {
   "cell_type": "code",
   "execution_count": 4,
   "metadata": {},
   "outputs": [],
   "source": [
    "input_layer_size = data_X.shape[1]\n",
    "nodes_per_layer = [20, 10, num_categories]\n",
    "\n",
    "qagrel_network = MultilayerQAGRELNetwork(\n",
    "    input_layer_size,\n",
    "    nodes_per_layer,\n",
    "    act_type='relu',\n",
    ")"
   ]
  },
  {
   "cell_type": "code",
   "execution_count": 5,
   "metadata": {
    "scrolled": false
   },
   "outputs": [
    {
     "name": "stdout",
     "output_type": "stream",
     "text": [
      "Automatic pdb calling has been turned ON\n"
     ]
    }
   ],
   "source": [
    "%pdb on\n",
    "qagrel_network.train(\n",
    "    list(zip(data_X, data_Y)),\n",
    "    num_epochs=100\n",
    ")"
   ]
  },
  {
   "cell_type": "code",
   "execution_count": 6,
   "metadata": {},
   "outputs": [],
   "source": [
    "import pandas as pd\n",
    "results = []\n",
    "for x_in, y_targ in zip(data_X, data_Y):\n",
    "    qagrel_network.propogate_input(x_in)\n",
    "    score = softmax(qagrel_network.layers[-1].activation, temp=0.1).ravel()\n",
    "    results.append(\n",
    "        {\n",
    "            'true_categ': y_targ,\n",
    "            'pred_categ': np.argmax(score),\n",
    "            'is_corr': np.argmax(score) == y_targ,\n",
    "            'score': score[y_targ]\n",
    "        }\n",
    "    )\n",
    "\n",
    "df_results = pd.DataFrame(results)"
   ]
  },
  {
   "cell_type": "code",
   "execution_count": 7,
   "metadata": {},
   "outputs": [
    {
     "data": {
      "text/plain": [
       "array([[-0.03355557],\n",
       "       [-0.01015246],\n",
       "       [-0.03339144],\n",
       "       [ 0.07978038],\n",
       "       [ 0.19300272]])"
      ]
     },
     "execution_count": 7,
     "metadata": {},
     "output_type": "execute_result"
    }
   ],
   "source": [
    "qagrel_network.layers[-1].activation"
   ]
  },
  {
   "cell_type": "code",
   "execution_count": 8,
   "metadata": {},
   "outputs": [
    {
     "data": {
      "text/plain": [
       "0.856"
      ]
     },
     "execution_count": 8,
     "metadata": {},
     "output_type": "execute_result"
    }
   ],
   "source": [
    "df_results.is_corr.mean()"
   ]
  },
  {
   "cell_type": "code",
   "execution_count": 9,
   "metadata": {},
   "outputs": [
    {
     "data": {
      "text/plain": [
       "true_categ\n",
       "0    100.0\n",
       "1     49.0\n",
       "2     84.0\n",
       "3    100.0\n",
       "4     95.0\n",
       "Name: is_corr, dtype: float64"
      ]
     },
     "execution_count": 9,
     "metadata": {},
     "output_type": "execute_result"
    }
   ],
   "source": [
    "df_results.groupby('true_categ')['is_corr'].sum()"
   ]
  },
  {
   "cell_type": "code",
   "execution_count": 10,
   "metadata": {},
   "outputs": [
    {
     "data": {
      "text/plain": [
       "true_categ\n",
       "0    0.375861\n",
       "1    0.276465\n",
       "2    0.311114\n",
       "3    0.397800\n",
       "4    0.380774\n",
       "Name: score, dtype: float64"
      ]
     },
     "execution_count": 10,
     "metadata": {},
     "output_type": "execute_result"
    }
   ],
   "source": [
    "df_results.groupby('true_categ')['score'].mean()"
   ]
  },
  {
   "cell_type": "code",
   "execution_count": 11,
   "metadata": {
    "scrolled": false
   },
   "outputs": [
    {
     "data": {
      "text/html": [
       "<div>\n",
       "<style scoped>\n",
       "    .dataframe tbody tr th:only-of-type {\n",
       "        vertical-align: middle;\n",
       "    }\n",
       "\n",
       "    .dataframe tbody tr th {\n",
       "        vertical-align: top;\n",
       "    }\n",
       "\n",
       "    .dataframe thead th {\n",
       "        text-align: right;\n",
       "    }\n",
       "</style>\n",
       "<table border=\"1\" class=\"dataframe\">\n",
       "  <thead>\n",
       "    <tr style=\"text-align: right;\">\n",
       "      <th></th>\n",
       "      <th>is_corr</th>\n",
       "      <th>pred_categ</th>\n",
       "      <th>score</th>\n",
       "      <th>true_categ</th>\n",
       "    </tr>\n",
       "  </thead>\n",
       "  <tbody>\n",
       "    <tr>\n",
       "      <th>0</th>\n",
       "      <td>True</td>\n",
       "      <td>2</td>\n",
       "      <td>0.286398</td>\n",
       "      <td>2</td>\n",
       "    </tr>\n",
       "    <tr>\n",
       "      <th>1</th>\n",
       "      <td>True</td>\n",
       "      <td>2</td>\n",
       "      <td>0.334758</td>\n",
       "      <td>2</td>\n",
       "    </tr>\n",
       "    <tr>\n",
       "      <th>2</th>\n",
       "      <td>True</td>\n",
       "      <td>3</td>\n",
       "      <td>0.379054</td>\n",
       "      <td>3</td>\n",
       "    </tr>\n",
       "    <tr>\n",
       "      <th>3</th>\n",
       "      <td>False</td>\n",
       "      <td>4</td>\n",
       "      <td>0.270017</td>\n",
       "      <td>1</td>\n",
       "    </tr>\n",
       "    <tr>\n",
       "      <th>4</th>\n",
       "      <td>True</td>\n",
       "      <td>4</td>\n",
       "      <td>0.223024</td>\n",
       "      <td>4</td>\n",
       "    </tr>\n",
       "    <tr>\n",
       "      <th>5</th>\n",
       "      <td>True</td>\n",
       "      <td>1</td>\n",
       "      <td>0.338156</td>\n",
       "      <td>1</td>\n",
       "    </tr>\n",
       "    <tr>\n",
       "      <th>6</th>\n",
       "      <td>True</td>\n",
       "      <td>2</td>\n",
       "      <td>0.354491</td>\n",
       "      <td>2</td>\n",
       "    </tr>\n",
       "    <tr>\n",
       "      <th>7</th>\n",
       "      <td>True</td>\n",
       "      <td>3</td>\n",
       "      <td>0.424230</td>\n",
       "      <td>3</td>\n",
       "    </tr>\n",
       "    <tr>\n",
       "      <th>8</th>\n",
       "      <td>True</td>\n",
       "      <td>2</td>\n",
       "      <td>0.277167</td>\n",
       "      <td>2</td>\n",
       "    </tr>\n",
       "    <tr>\n",
       "      <th>9</th>\n",
       "      <td>True</td>\n",
       "      <td>2</td>\n",
       "      <td>0.249129</td>\n",
       "      <td>2</td>\n",
       "    </tr>\n",
       "  </tbody>\n",
       "</table>\n",
       "</div>"
      ],
      "text/plain": [
       "   is_corr  pred_categ     score  true_categ\n",
       "0     True           2  0.286398           2\n",
       "1     True           2  0.334758           2\n",
       "2     True           3  0.379054           3\n",
       "3    False           4  0.270017           1\n",
       "4     True           4  0.223024           4\n",
       "5     True           1  0.338156           1\n",
       "6     True           2  0.354491           2\n",
       "7     True           3  0.424230           3\n",
       "8     True           2  0.277167           2\n",
       "9     True           2  0.249129           2"
      ]
     },
     "execution_count": 11,
     "metadata": {},
     "output_type": "execute_result"
    }
   ],
   "source": [
    "df_results.head(10)"
   ]
  },
  {
   "cell_type": "code",
   "execution_count": 12,
   "metadata": {},
   "outputs": [
    {
     "name": "stdout",
     "output_type": "stream",
     "text": [
      "False\n",
      "False\n",
      "False\n"
     ]
    }
   ],
   "source": [
    "for ff_lay, fb_lay in zip(qagrel_network.layers, qagrel_network.fb_layers[::-1]):\n",
    "    print(np.allclose(\n",
    "        ff_lay.input_weights.T,\n",
    "        fb_lay.input_weights\n",
    "    ))"
   ]
  },
  {
   "cell_type": "code",
   "execution_count": 13,
   "metadata": {},
   "outputs": [
    {
     "data": {
      "text/plain": [
       "array([[-3.37306474e-01, -7.36077091e-02, -3.71071572e-02,\n",
       "        -6.41407044e-02, -1.23745432e-01],\n",
       "       [ 1.12547570e-02,  4.30995770e-01, -4.80011181e-02,\n",
       "        -1.41053095e-01, -2.13090786e-01],\n",
       "       [ 2.77345746e-01, -1.83843439e-01, -2.40125999e-01,\n",
       "        -4.25848826e-01,  1.57592866e-01],\n",
       "       [-1.15511323e-01,  1.24262560e-01,  5.48002527e-01,\n",
       "        -2.40706472e-01,  6.06197327e-03],\n",
       "       [-1.36534863e-01,  1.11928864e-01,  3.68969750e-01,\n",
       "         6.56637538e-05,  1.85196813e-02],\n",
       "       [ 3.64977463e-01, -3.56112408e-01,  3.70349998e-02,\n",
       "         2.63525996e-01, -9.77041261e-02],\n",
       "       [-3.57762144e-02,  1.98405666e-01,  1.36010818e-01,\n",
       "        -1.79270802e-01,  2.06705343e-01],\n",
       "       [ 2.02205896e-01, -2.23799149e-01,  1.22228147e-01,\n",
       "         2.02091831e-01, -1.93776743e-01],\n",
       "       [-8.83909505e-02, -2.45503141e-01, -2.41082331e-01,\n",
       "         2.93165206e-01, -1.16693195e-01],\n",
       "       [-1.21960053e-01, -2.17394177e-01,  7.03981329e-02,\n",
       "        -4.22151674e-01, -7.52523504e-03]])"
      ]
     },
     "execution_count": 13,
     "metadata": {},
     "output_type": "execute_result"
    }
   ],
   "source": [
    "qagrel_network.layers[-1].input_weights"
   ]
  },
  {
   "cell_type": "code",
   "execution_count": null,
   "metadata": {},
   "outputs": [],
   "source": []
  }
 ],
 "metadata": {
  "kernelspec": {
   "display_name": "Python 3",
   "language": "python",
   "name": "python3"
  },
  "language_info": {
   "codemirror_mode": {
    "name": "ipython",
    "version": 3
   },
   "file_extension": ".py",
   "mimetype": "text/x-python",
   "name": "python",
   "nbconvert_exporter": "python",
   "pygments_lexer": "ipython3",
   "version": "3.7.2"
  }
 },
 "nbformat": 4,
 "nbformat_minor": 1
}
