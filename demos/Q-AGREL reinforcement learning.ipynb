{
 "cells": [
  {
   "cell_type": "markdown",
   "metadata": {},
   "source": [
    "This notebook demonstrates the implementation of the Q-AGREL reinforcement leraning algorithm developed by [Pozzi, Bohté & Roelfsema, 2018](https://arxiv.org/abs/1811.01768).\n",
    "\n",
    "\n",
    "It is a 'biologically plausible' supervised learning method because it doesn't require the backpropogation of error gradients. Instead, it uses a global reward error signal and an attention-like feedback network to allow for weight updates to learn supervised tasks. This notebook goes through a conceptual replication of their work."
   ]
  },
  {
   "cell_type": "code",
   "execution_count": 1,
   "metadata": {},
   "outputs": [],
   "source": [
    "import os\n",
    "\n",
    "import numpy as np\n",
    "import pandas as pd\n",
    "import matplotlib.pyplot as plt\n",
    "import seaborn as sns\n",
    "\n",
    "from sklearn.datasets import load_digits\n",
    "\n",
    "from hebbnets.utils import softmax\n",
    "from hebbnets.networks import MultilayerQAGRELNetwork"
   ]
  },
  {
   "cell_type": "code",
   "execution_count": 2,
   "metadata": {},
   "outputs": [],
   "source": [
    "# Load MNIST dataset\n",
    "num_categories = 10\n",
    "data_X, data_Y = load_digits(\n",
    "    n_class=num_categories,\n",
    "    return_X_y=True)\n",
    "\n",
    "data_X -= np.percentile(data_X.ravel(), 1)\n",
    "data_X /= np.percentile(data_X.ravel(), 99)\n",
    "\n",
    "train_idx = [(idx % 5) > 0 for idx in range(len(data_Y))]\n",
    "test_idx = [(idx % 5) == 0 for idx in range(len(data_Y))]"
   ]
  },
  {
   "cell_type": "code",
   "execution_count": 3,
   "metadata": {},
   "outputs": [],
   "source": [
    "# Initialize network with 2 hidden layers\n",
    "input_layer_size = data_X.shape[1]\n",
    "nodes_per_layer = [300, 100, num_categories]\n",
    "\n",
    "qagrel_network = MultilayerQAGRELNetwork(\n",
    "    input_layer_size,\n",
    "    nodes_per_layer,\n",
    "    act_type='relu',\n",
    ")"
   ]
  },
  {
   "cell_type": "code",
   "execution_count": 4,
   "metadata": {},
   "outputs": [],
   "source": [
    "# Train it for a few epochs\n",
    "\n",
    "qagrel_network.train(\n",
    "    list(zip(data_X[train_idx, :], data_Y[train_idx])),\n",
    "    num_epochs=10\n",
    ")"
   ]
  },
  {
   "cell_type": "code",
   "execution_count": 5,
   "metadata": {},
   "outputs": [],
   "source": [
    "# Get predicted labels on test dataset\n",
    "\n",
    "results = []\n",
    "for x_in, y_targ in zip(data_X[test_idx, :], data_Y[test_idx]):\n",
    "    qagrel_network.propogate_input(x_in)\n",
    "    score = softmax(qagrel_network.layers[-1].activation, temp=0.1).ravel()\n",
    "    results.append(\n",
    "        {\n",
    "            'true_categ': y_targ,\n",
    "            'pred_categ': np.argmax(score),\n",
    "            'is_corr': np.argmax(score) == y_targ,\n",
    "            'score': score[y_targ]\n",
    "        }\n",
    "    )\n",
    "\n",
    "df_results = pd.DataFrame(results)"
   ]
  },
  {
   "cell_type": "code",
   "execution_count": 6,
   "metadata": {},
   "outputs": [
    {
     "data": {
      "text/plain": [
       "<matplotlib.axes._subplots.AxesSubplot at 0x11d6ed630>"
      ]
     },
     "execution_count": 6,
     "metadata": {},
     "output_type": "execute_result"
    },
    {
     "data": {
      "image/png": "[encoded data removed]",
      "text/plain": [
       "<Figure size 432x288 with 1 Axes>"
      ]
     },
     "metadata": {
      "needs_background": "light"
     },
     "output_type": "display_data"
    }
   ],
   "source": [
    "# Check out the confusion matrix!\n",
    "\n",
    "df_confmat = pd.pivot_table(\n",
    "    df_results,\n",
    "    index='true_categ',\n",
    "    columns='pred_categ',\n",
    "    values='is_corr',\n",
    "    aggfunc='count',\n",
    "    fill_value=0\n",
    ")\n",
    "\n",
    "sns.heatmap(df_confmat, linewidths=0.2, cmap='Blues', annot=True, cbar=False)"
   ]
  },
  {
   "cell_type": "code",
   "execution_count": null,
   "metadata": {},
   "outputs": [],
   "source": []
  }
 ],
 "metadata": {
  "kernelspec": {
   "display_name": "Python 3",
   "language": "python",
   "name": "python3"
  },
  "language_info": {
   "codemirror_mode": {
    "name": "ipython",
    "version": 3
   },
   "file_extension": ".py",
   "mimetype": "text/x-python",
   "name": "python",
   "nbconvert_exporter": "python",
   "pygments_lexer": "ipython3",
   "version": "3.7.2"
  }
 },
 "nbformat": 4,
 "nbformat_minor": 1
}
