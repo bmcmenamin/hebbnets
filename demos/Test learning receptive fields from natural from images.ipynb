{
 "cells": [
  {
   "cell_type": "code",
   "execution_count": 1,
   "metadata": {},
   "outputs": [],
   "source": [
    "import os\n",
    "import sys\n",
    "\n",
    "repo_root_path = os.path.abspath(os.path.join(os.path.pardir, 'hebbnets'))\n",
    "if repo_root_path not in sys.path:\n",
    "    sys.path.append(repo_root_path)\n",
    "\n",
    "import matplotlib.pyplot as plt\n",
    "%matplotlib nbagg\n",
    "\n",
    "import numpy as np\n",
    "\n",
    "from demo_utils import yeild_patch_batch, turn_input_weights_to_pilimg, place_pilimgs_in_grid\n",
    "from hebbnets.hebbnets.hah_model import MultilayerHahNetwork"
   ]
  },
  {
   "cell_type": "markdown",
   "metadata": {},
   "source": [
    "# Make image patch generator"
   ]
  },
  {
   "cell_type": "code",
   "execution_count": 2,
   "metadata": {},
   "outputs": [],
   "source": [
    "image_urls = [\n",
    "    'https://upload.wikimedia.org/wikipedia/commons/3/39/GlarusAlps.jpg',\n",
    "    'https://upload.wikimedia.org/wikipedia/commons/3/38/M_Rainier.jpg',\n",
    "    'https://upload.wikimedia.org/wikipedia/commons/3/3c/Volc%C3%A1n_Chimborazo%2C_%22El_Taita_Chimborazo%22.jpg',\n",
    "    'https://upload.wikimedia.org/wikipedia/commons/0/06/Briesetal_bei_Briese.JPG',\n",
    "    'https://upload.wikimedia.org/wikipedia/commons/7/75/Florida_freshwater_swamp_usgov_image.jpg'\n",
    "]\n",
    "\n",
    "patch_size = [12, 12]\n",
    "\n",
    "batch_o_patches_gen = yeild_patch_batch(\n",
    "    image_urls,\n",
    "    patch_size=patch_size,\n",
    "    patch_stride=[9, 9],\n",
    "    batch_size=5000\n",
    ")"
   ]
  },
  {
   "cell_type": "markdown",
   "metadata": {},
   "source": [
    "# Set up HAH network"
   ]
  },
  {
   "cell_type": "code",
   "execution_count": 3,
   "metadata": {},
   "outputs": [],
   "source": [
    "input_layer_size = patch_size[0] * patch_size[1]\n",
    "nodes_per_layer = [196]\n",
    "\n",
    "hah_network = MultilayerHahNetwork(\n",
    "    input_layer_size,\n",
    "    nodes_per_layer,\n",
    "    has_bias=False,\n",
    "    act_type='soft_thresh',\n",
    "    reg_lambda=2.0,\n",
    "    noise_var=0.01\n",
    ")"
   ]
  },
  {
   "cell_type": "markdown",
   "metadata": {},
   "source": [
    "# Gather/whiten all patches"
   ]
  },
  {
   "cell_type": "code",
   "execution_count": 4,
   "metadata": {},
   "outputs": [],
   "source": [
    "all_patches = np.vstack([\n",
    "    np.array([p.ravel() / 255.0 for p in batch])\n",
    "    for batch in batch_o_patches_gen\n",
    "])"
   ]
  },
  {
   "cell_type": "code",
   "execution_count": 5,
   "metadata": {},
   "outputs": [],
   "source": [
    "# Whitening image patches\n",
    "all_patches -= all_patches.ravel().mean()\n",
    "cov_mat = all_patches.T.dot(all_patches) / all_patches.shape[0]\n",
    "whiten_mat = np.linalg.pinv(cov_mat + 0.01 * np.eye(cov_mat.shape[0]))\n",
    "dewhiten_mat = np.linalg.pinv(whiten_mat)\n",
    "all_patches_white = all_patches.dot(whiten_mat)"
   ]
  },
  {
   "cell_type": "markdown",
   "metadata": {},
   "source": [
    "# Train network on batches of patches"
   ]
  },
  {
   "cell_type": "code",
   "execution_count": 6,
   "metadata": {},
   "outputs": [],
   "source": [
    "hah_network.train(\n",
    "    all_patches_white,\n",
    "    num_epochs=3\n",
    ")"
   ]
  },
  {
   "cell_type": "markdown",
   "metadata": {},
   "source": [
    "# Visualize the learned recpetive fields"
   ]
  },
  {
   "cell_type": "code",
   "execution_count": 7,
   "metadata": {},
   "outputs": [],
   "source": [
    "rf_picture = place_pilimgs_in_grid(\n",
    "    turn_input_weights_to_pilimg(\n",
    "        hah_network.layers[0],\n",
    "        patch_size,\n",
    "        dewhiten_mat\n",
    "    )\n",
    ")"
   ]
  },
  {
   "cell_type": "code",
   "execution_count": 8,
   "metadata": {},
   "outputs": [
    {
     "data": {
      "text/plain": [
       "array([1.02301096e-05, 1.16992098e-05, 3.42096158e-05, 1.75758269e-05,\n",
       "       1.96163691e-05, 8.30391086e-05, 2.25910058e-05, 6.40874317e-06,\n",
       "       5.10058366e-05, 8.31120817e-06, 5.66159032e-05, 7.84128430e-06,\n",
       "       1.74251009e-05, 6.87579945e-05, 4.69748885e-05, 4.18395114e-05,\n",
       "       9.01540549e-06, 9.54639399e-06, 3.12199039e-06, 1.68117334e-05,\n",
       "       1.77637573e-05, 5.81573677e-05, 5.59018185e-05, 5.27910322e-05,\n",
       "       1.03949653e-05, 4.58194467e-05, 1.90763169e-05, 1.69975669e-05,\n",
       "       3.77212056e-06, 1.30854683e-05, 1.84881012e-05, 2.32940136e-05,\n",
       "       7.80952498e-06, 6.30950160e-05, 5.30585784e-05, 3.41380051e-06,\n",
       "       4.68125063e-05, 3.97925708e-05, 9.86599359e-05, 2.82470722e-05,\n",
       "       7.79538737e-05, 6.78805939e-05, 3.59763195e-05, 5.87839861e-05,\n",
       "       5.89066208e-05, 2.97359788e-05, 9.02934381e-06, 5.05248067e-05,\n",
       "       2.24826427e-05, 2.96494484e-05, 4.71075431e-05, 1.01446731e-05,\n",
       "       4.60133691e-06, 2.39150765e-05, 1.32468141e-05, 4.65596643e-05,\n",
       "       1.35920006e-05, 1.73482582e-05, 1.79435190e-05, 1.50199696e-05,\n",
       "       1.85951171e-05, 1.10201734e-04, 6.04121832e-05, 5.00782938e-06,\n",
       "       4.80061613e-05, 7.56350841e-05, 1.80232422e-06, 5.75210295e-05,\n",
       "       2.79068583e-06, 1.91044414e-05, 4.93034577e-05, 5.05851356e-06,\n",
       "       2.10126542e-05, 5.19761869e-05, 1.58939243e-05, 1.76170664e-05,\n",
       "       2.14129395e-05, 1.49060770e-05, 3.20699196e-05, 3.90029738e-05,\n",
       "       6.58098860e-06, 5.40844683e-05, 4.88926807e-06, 2.58688542e-05,\n",
       "       6.44398201e-05, 3.36492416e-05, 4.09077835e-06, 3.33009193e-05,\n",
       "       8.50000513e-05, 8.41222796e-06, 2.18830972e-05, 9.46282554e-06,\n",
       "       3.11365179e-05, 3.37806258e-05, 4.52795241e-06, 5.43069283e-05,\n",
       "       7.88076169e-05, 2.61822651e-05, 1.55025473e-05, 8.23976091e-06,\n",
       "       3.48328049e-05, 3.54289846e-05, 1.35968181e-05, 2.88502505e-05,\n",
       "       4.84793419e-05, 3.69432620e-06, 8.96674312e-05, 6.23367414e-05,\n",
       "       4.31438937e-06, 3.42989343e-05, 5.96577586e-06, 6.70216181e-05,\n",
       "       1.46903963e-05, 1.04794526e-05, 8.87129246e-06, 9.55558564e-06,\n",
       "       8.55243923e-05, 8.45730347e-05, 3.88643280e-05, 3.19704380e-05,\n",
       "       3.94714790e-05, 1.55810434e-05, 1.21262899e-05, 1.23125226e-05,\n",
       "       4.51447419e-05, 1.90652053e-06, 1.42951751e-05, 6.23744594e-05,\n",
       "       5.94389885e-05, 4.81807154e-05, 1.73789643e-05, 8.01678436e-06,\n",
       "       6.82074050e-06, 4.32442808e-05, 2.84654646e-05, 5.80466558e-07,\n",
       "       1.27742325e-05, 1.64198758e-05, 5.56536699e-05, 9.73423410e-06,\n",
       "       3.14103706e-05, 2.22560410e-05, 1.60738097e-05, 1.54234861e-05,\n",
       "       1.19975596e-05, 3.74537767e-05, 3.39408721e-05, 6.45316921e-05,\n",
       "       1.90940041e-05, 1.06604404e-05, 8.13376190e-06, 1.05140238e-05,\n",
       "       5.64539902e-05, 1.73709228e-05, 2.93534257e-05, 2.01661186e-05,\n",
       "       1.17461536e-05, 5.98856931e-06, 5.73853532e-05, 3.46401481e-05,\n",
       "       1.80436982e-05, 1.59490916e-05, 4.53427384e-06, 5.53295058e-06,\n",
       "       2.43362096e-05, 1.00147451e-05, 1.87820530e-05, 3.82240467e-05,\n",
       "       7.66077194e-06, 3.81648283e-05, 8.39682447e-06, 1.21985330e-06,\n",
       "       3.98433090e-05, 6.54881194e-05, 8.73521488e-05, 1.18786646e-05,\n",
       "       1.61117546e-05, 6.87426914e-07, 5.11102386e-05, 2.67441413e-05,\n",
       "       1.50521434e-05, 4.76750092e-05, 7.27129324e-05, 7.65759307e-06,\n",
       "       4.37116789e-05, 3.45691866e-05, 2.29811061e-05, 2.68301588e-05,\n",
       "       4.96458409e-05, 3.83676221e-05, 8.98893064e-06, 6.71513825e-07,\n",
       "       1.60582125e-05, 6.65687767e-05, 6.53635354e-07, 5.19939095e-05])"
      ]
     },
     "execution_count": 8,
     "metadata": {},
     "output_type": "execute_result"
    }
   ],
   "source": [
    "hah_network.layers[0]._soft_thresh_val"
   ]
  },
  {
   "cell_type": "code",
   "execution_count": 9,
   "metadata": {},
   "outputs": [
    {
     "data": {
      "image/png": "[encoded data removed]",
      "text/plain": [
       "<PIL.Image.Image image mode=RGB size=894x894 at 0x116D13748>"
      ]
     },
     "execution_count": 9,
     "metadata": {},
     "output_type": "execute_result"
    }
   ],
   "source": [
    "img_rescale = 3.0\n",
    "\n",
    "rf_picture.resize(\n",
    "    [int(img_rescale * i) for i in rf_picture.size],\n",
    ")"
   ]
  },
  {
   "cell_type": "code",
   "execution_count": null,
   "metadata": {},
   "outputs": [],
   "source": []
  },
  {
   "cell_type": "code",
   "execution_count": null,
   "metadata": {},
   "outputs": [],
   "source": []
  }
 ],
 "metadata": {
  "kernelspec": {
   "display_name": "Python 3",
   "language": "python",
   "name": "python3"
  },
  "language_info": {
   "codemirror_mode": {
    "name": "ipython",
    "version": 3
   },
   "file_extension": ".py",
   "mimetype": "text/x-python",
   "name": "python",
   "nbconvert_exporter": "python",
   "pygments_lexer": "ipython3",
   "version": "3.5.1"
  }
 },
 "nbformat": 4,
 "nbformat_minor": 2
}
