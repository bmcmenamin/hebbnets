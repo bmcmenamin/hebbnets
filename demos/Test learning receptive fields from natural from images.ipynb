{
 "cells": [
  {
   "cell_type": "code",
   "execution_count": 1,
   "metadata": {},
   "outputs": [],
   "source": [
    "import os\n",
    "import sys\n",
    "\n",
    "repo_root_path = os.path.abspath(os.path.join(os.path.pardir, 'hebbnets'))\n",
    "if repo_root_path not in sys.path:\n",
    "    sys.path.append(repo_root_path)\n",
    "\n",
    "import matplotlib.pyplot as plt\n",
    "%matplotlib nbagg\n",
    "\n",
    "import numpy as np\n",
    "\n",
    "from demo_utils import yeild_patch_batch, turn_input_weights_to_pilimg, place_pilimgs_in_grid\n",
    "from hebbnets.hebbnets.hah_model import MultilayerHahNetwork"
   ]
  },
  {
   "cell_type": "markdown",
   "metadata": {},
   "source": [
    "# Make image patch generator"
   ]
  },
  {
   "cell_type": "code",
   "execution_count": 2,
   "metadata": {},
   "outputs": [],
   "source": [
    "image_urls = [\n",
    "    'https://upload.wikimedia.org/wikipedia/commons/3/39/GlarusAlps.jpg',\n",
    "    'https://upload.wikimedia.org/wikipedia/commons/3/38/M_Rainier.jpg',\n",
    "    'https://upload.wikimedia.org/wikipedia/commons/3/3c/Volc%C3%A1n_Chimborazo%2C_%22El_Taita_Chimborazo%22.jpg',\n",
    "    'https://upload.wikimedia.org/wikipedia/commons/0/06/Briesetal_bei_Briese.JPG',\n",
    "    'https://upload.wikimedia.org/wikipedia/commons/7/75/Florida_freshwater_swamp_usgov_image.jpg'\n",
    "]\n",
    "\n",
    "patch_size = [12, 12]\n",
    "\n",
    "batch_o_patches_gen = yeild_patch_batch(\n",
    "    image_urls,\n",
    "    patch_size=patch_size,\n",
    "    patch_stride=[9, 9],\n",
    "    batch_size=5000\n",
    ")"
   ]
  },
  {
   "cell_type": "markdown",
   "metadata": {},
   "source": [
    "# Gather/whiten all patches"
   ]
  },
  {
   "cell_type": "code",
   "execution_count": 3,
   "metadata": {},
   "outputs": [],
   "source": [
    "# Whitening image patches\n",
    "\n",
    "all_patches = np.vstack([\n",
    "    np.array([p.ravel() / 255.0 for p in batch])\n",
    "    for batch in batch_o_patches_gen\n",
    "])\n",
    "\n",
    "all_patches -= all_patches.ravel().mean()\n",
    "all_patches /= all_patches.ravel().std()\n",
    "\n",
    "cov_mat = all_patches.T.dot(all_patches) / all_patches.shape[0]\n",
    "whiten_mat = np.linalg.pinv(cov_mat + 0.01 * np.eye(cov_mat.shape[0]))\n",
    "dewhiten_mat = np.linalg.pinv(whiten_mat)\n",
    "all_patches_white = all_patches.dot(whiten_mat)"
   ]
  },
  {
   "cell_type": "markdown",
   "metadata": {},
   "source": [
    "# Set up HAH network"
   ]
  },
  {
   "cell_type": "code",
   "execution_count": 4,
   "metadata": {},
   "outputs": [],
   "source": [
    "input_layer_size = patch_size[0] * patch_size[1]\n",
    "nodes_per_layer = [128]\n",
    "\n",
    "hah_network = MultilayerHahNetwork(\n",
    "    input_layer_size,\n",
    "    nodes_per_layer,\n",
    "    has_bias=False,\n",
    "    act_type='soft_thresh',\n",
    "    reg_lambda=2.0,\n",
    "    noise_var=0.001\n",
    ")"
   ]
  },
  {
   "cell_type": "markdown",
   "metadata": {},
   "source": [
    "# Train network on batches of patches"
   ]
  },
  {
   "cell_type": "code",
   "execution_count": null,
   "metadata": {
    "scrolled": true
   },
   "outputs": [
    {
     "name": "stderr",
     "output_type": "stream",
     "text": [
      "/Users/mcmenamin/GitHub/hebbnets/hebbnets/layers.py:234: RuntimeWarning: overflow encountered in square\n",
      "  activation_sqr = self.activation ** 2\n",
      "/Users/mcmenamin/GitHub/hebbnets/hebbnets/layers.py:244: RuntimeWarning: invalid value encountered in true_divide\n",
      "  activation_sqr_norm = activation_sqr / self._cum_sqr_activation\n",
      "/Users/mcmenamin/.virtualenvs/py3env/lib/python3.5/site-packages/numpy/core/_methods.py:28: RuntimeWarning: invalid value encountered in reduce\n",
      "  return umr_maximum(a, axis, None, out, keepdims, initial)\n",
      "/Users/mcmenamin/.virtualenvs/py3env/lib/python3.5/site-packages/numpy/core/_methods.py:32: RuntimeWarning: invalid value encountered in reduce\n",
      "  return umr_minimum(a, axis, None, out, keepdims, initial)\n",
      "/Users/mcmenamin/GitHub/hebbnets/hebbnets/layers.py:43: RuntimeWarning: invalid value encountered in maximum\n",
      "  abs_thresh = np.maximum(np.abs(activation) - self._soft_thresh_val, 0.0)\n"
     ]
    }
   ],
   "source": [
    "hah_network.train(\n",
    "    all_patches_white,\n",
    "    num_epochs=1\n",
    ")"
   ]
  },
  {
   "cell_type": "markdown",
   "metadata": {},
   "source": [
    "# Visualize the learned recpetive fields"
   ]
  },
  {
   "cell_type": "code",
   "execution_count": null,
   "metadata": {},
   "outputs": [],
   "source": [
    "rf_picture = place_pilimgs_in_grid(\n",
    "    turn_input_weights_to_pilimg(\n",
    "        hah_network.layers[0],\n",
    "        patch_size,\n",
    "        dewhiten_mat\n",
    "    )\n",
    ")"
   ]
  },
  {
   "cell_type": "code",
   "execution_count": null,
   "metadata": {},
   "outputs": [],
   "source": [
    "hah_network.layers[0]._soft_thresh_val"
   ]
  },
  {
   "cell_type": "code",
   "execution_count": null,
   "metadata": {},
   "outputs": [],
   "source": [
    "img_rescale = 3.0\n",
    "\n",
    "rf_picture.resize(\n",
    "    [int(img_rescale * i) for i in rf_picture.size],\n",
    ")"
   ]
  }
 ],
 "metadata": {
  "kernelspec": {
   "display_name": "Python 3",
   "language": "python",
   "name": "python3"
  },
  "language_info": {
   "codemirror_mode": {
    "name": "ipython",
    "version": 3
   },
   "file_extension": ".py",
   "mimetype": "text/x-python",
   "name": "python",
   "nbconvert_exporter": "python",
   "pygments_lexer": "ipython3",
   "version": "3.5.1"
  }
 },
 "nbformat": 4,
 "nbformat_minor": 2
}
